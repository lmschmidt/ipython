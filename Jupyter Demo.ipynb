{
 "cells": [
  {
   "cell_type": "code",
   "execution_count": 7,
   "metadata": {
    "collapsed": false
   },
   "outputs": [
    {
     "name": "stdout",
     "output_type": "stream",
     "text": [
      "The autoreload extension is already loaded. To reload it, use:\n",
      "  %reload_ext autoreload\n"
     ]
    }
   ],
   "source": [
    "#autoreload any libraries you import\n",
    "%load_ext autoreload\n",
    "%autoreload 2\n",
    "#Show plots in the notebook\n",
    "%matplotlib inline"
   ]
  },
  {
   "cell_type": "code",
   "execution_count": 8,
   "metadata": {
    "collapsed": true
   },
   "outputs": [],
   "source": [
    "#my standard list of libraries\n",
    "#good for data import and manipulation (here is a brief intro http://pandas.pydata.org/pandas-docs/stable/10min.html)\n",
    "#can also do basic plots, really nice handling of dates and times when plotting\n",
    "import pandas as pd\n",
    "#basic plotting\n",
    "import matplotlib.pyplot as plt\n",
    "#interactive plotting (like black materials plots Doyeon made)\n",
    "from bokeh.plotting import figure, show, output_file\n",
    "#Astro specific libraries http://docs.astropy.org/en/stable/\n",
    "import astropy\n",
    "#General math/stats packages\n",
    "import numpy as np\n",
    "import scipy\n",
    "from scipy import stats\n",
    "import math\n",
    "from scipy.optimize import curve_fit\n",
    "import scipy.odr as odr"
   ]
  },
  {
   "cell_type": "code",
   "execution_count": 9,
   "metadata": {
    "collapsed": false
   },
   "outputs": [
    {
     "data": {
      "text/html": [
       "<script>\n",
       "code_show=true; \n",
       "function code_toggle() {\n",
       " if (code_show){\n",
       " $('div.input').hide();\n",
       " } else {\n",
       " $('div.input').show();\n",
       " }\n",
       " code_show = !code_show\n",
       "} \n",
       "$( document ).ready(code_toggle);\n",
       "</script>\n",
       "<form action=\"javascript:code_toggle()\"><input type=\"submit\" value=\"Click here to toggle on/off the raw code.\"></form>"
      ],
      "text/plain": [
       "<IPython.core.display.HTML object>"
      ]
     },
     "execution_count": 9,
     "metadata": {},
     "output_type": "execute_result"
    }
   ],
   "source": [
    "#This cell gives you the toggle button to hide code\n",
    "from IPython.display import HTML\n",
    "\n",
    "HTML('''<script>\n",
    "code_show=true; \n",
    "function code_toggle() {\n",
    " if (code_show){\n",
    " $('div.input').hide();\n",
    " } else {\n",
    " $('div.input').show();\n",
    " }\n",
    " code_show = !code_show\n",
    "} \n",
    "$( document ).ready(code_toggle);\n",
    "</script>\n",
    "<form action=\"javascript:code_toggle()\"><input type=\"submit\" value=\"Click here to toggle on/off the raw code.\"></form>''')"
   ]
  },
  {
   "cell_type": "code",
   "execution_count": 10,
   "metadata": {
    "collapsed": false
   },
   "outputs": [],
   "source": [
    "#example of reading in an excel file with pandas, uncomment to run\n",
    "#xls_file = 'file.xlsx'\n",
    "#df = pd.read_excel(xls_file, 'sheetname', header=2)\n",
    "#list(df)"
   ]
  },
  {
   "cell_type": "markdown",
   "metadata": {},
   "source": [
    "### Markdown Cells\n",
    "If you change a cell type from \"code\" to \"markdown\" (in the drop down box at the top, or Cell->Cell Type->Markdown) you can insert commentary that is nicely formatted, including math equations $e^{i\\pi}+ 1 = 0$. Again, shift+enter will render it.\n",
    "\n",
    "Example List:\n",
    "* item 1\n",
    "* item 2\n",
    "\n",
    "\n"
   ]
  },
  {
   "cell_type": "code",
   "execution_count": 24,
   "metadata": {
    "collapsed": false,
    "scrolled": false
   },
   "outputs": [
    {
     "data": {
      "text/plain": [
       "<matplotlib.text.Text at 0xb963400>"
      ]
     },
     "execution_count": 24,
     "metadata": {},
     "output_type": "execute_result"
    },
    {
     "data": {
      "image/png": "[encoded data removed]",
      "text/plain": [
       "<matplotlib.figure.Figure at 0xcc8a9e8>"
      ]
     },
     "metadata": {},
     "output_type": "display_data"
    }
   ],
   "source": [
    "#making a nice looking figure\n",
    "\n",
    "#generate some data to plot\n",
    "x = np.arange(0.1, 4, 0.5)\n",
    "y = np.exp(-x)\n",
    "\n",
    "#set font and size\n",
    "plt.rc('font', family='serif', serif='Times')\n",
    "plt.rc('text', usetex=True)\n",
    "plt.rc('xtick', labelsize=12)\n",
    "plt.rc('ytick', labelsize=12)\n",
    "plt.rc('axes', labelsize=14)\n",
    "\n",
    "#set figure size/format\n",
    "width = 12\n",
    "height = width/1.618\n",
    "fig = plt.figure(figsize=(width, height))\n",
    "ax = fig.add_subplot(1, 1, 1)\n",
    "\n",
    "#plot data with error bars, yerr can also be an array\n",
    "ax.errorbar(x,y, yerr=0.2, fmt='.', c='k',capsize=3, elinewidth=1, zorder=0)\n",
    "\n",
    "#insert varous horizontal lines\n",
    "ax.axhline(y=0, color='k', linestyle='-', linewidth=1)\n",
    "ax.axhline(y=0.2, color='k', linestyle='-.', linewidth=1)\n",
    "ax.axhline(y=-0.2, color='k', linestyle='-.', linewidth=1)\n",
    "#you can insert LaTeX style labels as well\n",
    "ax.set_xlabel('$\\mathrm{Time\\ [s]}$')\n",
    "ax.set_ylabel('$\\mathrm{Velocity\\ [km\\ s^{-1}]}$')\n",
    "ax.set_title('Velocity vs. Time')\n"
   ]
  },
  {
   "cell_type": "code",
   "execution_count": null,
   "metadata": {
    "collapsed": true
   },
   "outputs": [],
   "source": []
  }
 ],
 "metadata": {
  "kernelspec": {
   "display_name": "Python [default]",
   "language": "python",
   "name": "python3"
  },
  "language_info": {
   "codemirror_mode": {
    "name": "ipython",
    "version": 3
   },
   "file_extension": ".py",
   "mimetype": "text/x-python",
   "name": "python",
   "nbconvert_exporter": "python",
   "pygments_lexer": "ipython3",
   "version": "3.5.2"
  }
 },
 "nbformat": 4,
 "nbformat_minor": 2
}
